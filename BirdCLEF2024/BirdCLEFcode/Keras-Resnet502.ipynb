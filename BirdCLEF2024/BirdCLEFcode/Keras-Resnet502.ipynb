{
 "metadata": {
  "kernelspec": {
   "language": "python",
   "display_name": "Python 3",
   "name": "python3"
  },
  "language_info": {
   "name": "python",
   "version": "3.10.13",
   "mimetype": "text/x-python",
   "codemirror_mode": {
    "name": "ipython",
    "version": 3
   },
   "pygments_lexer": "ipython3",
   "nbconvert_exporter": "python",
   "file_extension": ".py"
  },
  "kaggle": {
   "accelerator": "none",
   "dataSources": [
    {
     "sourceId": 70203,
     "databundleVersionId": 8068726,
     "sourceType": "competition"
    },
    {
     "sourceId": 8541535,
     "sourceType": "datasetVersion",
     "datasetId": 5102884
    },
    {
     "sourceId": 8598734,
     "sourceType": "datasetVersion",
     "datasetId": 5144323
    },
    {
     "sourceId": 172963793,
     "sourceType": "kernelVersion"
    },
    {
     "sourceId": 180231960,
     "sourceType": "kernelVersion"
    },
    {
     "sourceId": 6088,
     "sourceType": "modelInstanceVersion",
     "modelInstanceId": 4626
    },
    {
     "sourceId": 6091,
     "sourceType": "modelInstanceVersion",
     "modelInstanceId": 4623
    },
    {
     "sourceId": 6106,
     "sourceType": "modelInstanceVersion",
     "modelInstanceId": 4649
    },
    {
     "sourceId": 6125,
     "sourceType": "modelInstanceVersion",
     "modelInstanceId": 4596
    },
    {
     "sourceId": 6127,
     "sourceType": "modelInstanceVersion",
     "modelInstanceId": 4598
    }
   ],
   "isInternetEnabled": true,
   "language": "python",
   "sourceType": "notebook",
   "isGpuEnabled": false
  }
 },
 "nbformat_minor": 4,
 "nbformat": 4,
 "cells": [
  {
   "cell_type": "markdown",
   "source": "# Module",
   "metadata": {
    "papermill": {
     "duration": 0.065343,
     "end_time": "2022-03-08T03:18:11.885586",
     "exception": false,
     "start_time": "2022-03-08T03:18:11.820243",
     "status": "completed"
    },
    "tags": []
   }
  },
  {
   "cell_type": "code",
   "source": [
    "\n",
    "import os\n",
    "os.environ[\"KERAS_BACKEND\"] = \"tensorflow\"  # \"jax\" or \"tensorflow\" or \"torch\" \n",
    "\n",
    "import keras_cv\n",
    "import keras\n",
    "import keras.backend as K\n",
    "import tensorflow as tf\n",
    "import tensorflow_io as tfio\n",
    "\n",
    "import numpy as np \n",
    "import pandas as pd\n",
    "\n",
    "from glob import glob\n",
    "from tqdm import tqdm\n",
    "\n",
    "import librosa\n",
    "import IPython.display as ipd\n",
    "import librosa.display as lid\n",
    "\n",
    "import matplotlib.pyplot as plt\n",
    "import matplotlib as mpl\n",
    "\n",
    "cmap = mpl.cm.get_cmap('coolwarm')"
   ],
   "metadata": {
    "_cell_guid": "b1076dfc-b9ad-4769-8c92-a6c4dae69d19",
    "_uuid": "8f2839f25d086af736a60e9eeb907d3b93b6e0e5",
    "papermill": {
     "duration": 2.632068,
     "end_time": "2022-03-08T03:18:14.585094",
     "exception": false,
     "start_time": "2022-03-08T03:18:11.953026",
     "status": "completed"
    },
    "tags": [],
    "_kg_hide-output": true,
    "execution": {
     "iopub.status.busy": "2024-06-07T15:03:57.139688Z",
     "iopub.execute_input": "2024-06-07T15:03:57.140075Z",
     "iopub.status.idle": "2024-06-07T15:04:17.681204Z",
     "shell.execute_reply.started": "2024-06-07T15:03:57.140044Z",
     "shell.execute_reply": "2024-06-07T15:04:17.679884Z"
    },
    "trusted": true
   },
   "execution_count": 1,
   "outputs": [
    {
     "name": "stderr",
     "text": "2024-06-07 15:04:02.406406: E external/local_xla/xla/stream_executor/cuda/cuda_dnn.cc:9261] Unable to register cuDNN factory: Attempting to register factory for plugin cuDNN when one has already been registered\n2024-06-07 15:04:02.406554: E external/local_xla/xla/stream_executor/cuda/cuda_fft.cc:607] Unable to register cuFFT factory: Attempting to register factory for plugin cuFFT when one has already been registered\n2024-06-07 15:04:02.553362: E external/local_xla/xla/stream_executor/cuda/cuda_blas.cc:1515] Unable to register cuBLAS factory: Attempting to register factory for plugin cuBLAS when one has already been registered\n/tmp/ipykernel_33/4180528519.py:23: MatplotlibDeprecationWarning: The get_cmap function was deprecated in Matplotlib 3.7 and will be removed two minor releases later. Use ``matplotlib.colormaps[name]`` or ``matplotlib.colormaps.get_cmap(obj)`` instead.\n  cmap = mpl.cm.get_cmap('coolwarm')\n",
     "output_type": "stream"
    }
   ]
  },
  {
   "cell_type": "markdown",
   "source": "## Config & Set seeds",
   "metadata": {
    "papermill": {
     "duration": 0.066353,
     "end_time": "2022-03-08T03:18:18.099835",
     "exception": false,
     "start_time": "2022-03-08T03:18:18.033482",
     "status": "completed"
    },
    "tags": []
   }
  },
  {
   "cell_type": "code",
   "source": "class CFG:\n    seed = 42\n    \n    # Input image size and batch size\n    img_size = [128, 384]\n    \n    # Audio duration, sample rate, and length\n    duration = 15 # second\n    sample_rate = 32000\n    audio_len = duration*sample_rate\n    \n    # STFT parameters\n    nfft = 2028\n    window = 2048\n    hop_length = audio_len // (img_size[1] - 1)\n    fmin = 20\n    fmax = 16000\n    \n    # Number of epochs, model name\n    preset = 'yolo_v8_s_backbone_coco'\n\n    # Class Labels for BirdCLEF 24\n    class_names = sorted(os.listdir('/kaggle/input/birdclef-2024/train_audio/'))\n    num_classes = len(class_names)\n    class_labels = list(range(num_classes))\n    label2name = dict(zip(class_labels, class_names))\n    name2label = {v:k for k,v in label2name.items()}",
   "metadata": {
    "papermill": {
     "duration": 0.156464,
     "end_time": "2022-03-08T03:18:18.322809",
     "exception": false,
     "start_time": "2022-03-08T03:18:18.166345",
     "status": "completed"
    },
    "tags": [],
    "execution": {
     "iopub.status.busy": "2024-06-07T15:04:17.683364Z",
     "iopub.execute_input": "2024-06-07T15:04:17.684138Z",
     "iopub.status.idle": "2024-06-07T15:04:17.714175Z",
     "shell.execute_reply.started": "2024-06-07T15:04:17.684096Z",
     "shell.execute_reply": "2024-06-07T15:04:17.712924Z"
    },
    "trusted": true
   },
   "execution_count": 2,
   "outputs": []
  },
  {
   "cell_type": "code",
   "source": "tf.keras.utils.set_random_seed(CFG.seed)",
   "metadata": {
    "papermill": {
     "duration": 0.153451,
     "end_time": "2022-03-08T03:18:18.685056",
     "exception": false,
     "start_time": "2022-03-08T03:18:18.531605",
     "status": "completed"
    },
    "tags": [],
    "_kg_hide-input": true,
    "execution": {
     "iopub.status.busy": "2024-06-07T15:04:17.727685Z",
     "iopub.execute_input": "2024-06-07T15:04:17.728107Z",
     "iopub.status.idle": "2024-06-07T15:04:17.734337Z",
     "shell.execute_reply.started": "2024-06-07T15:04:17.728071Z",
     "shell.execute_reply": "2024-06-07T15:04:17.733343Z"
    },
    "trusted": true
   },
   "execution_count": 4,
   "outputs": []
  },
  {
   "cell_type": "markdown",
   "source": "# Dataset Path 📁",
   "metadata": {}
  },
  {
   "cell_type": "code",
   "source": "BASE_PATH = '/kaggle/input/birdclef-2024'",
   "metadata": {
    "_kg_hide-input": true,
    "execution": {
     "iopub.status.busy": "2024-06-07T15:04:17.735577Z",
     "iopub.execute_input": "2024-06-07T15:04:17.735979Z",
     "iopub.status.idle": "2024-06-07T15:04:17.744101Z",
     "shell.execute_reply.started": "2024-06-07T15:04:17.735952Z",
     "shell.execute_reply": "2024-06-07T15:04:17.743166Z"
    },
    "trusted": true
   },
   "execution_count": 5,
   "outputs": []
  },
  {
   "cell_type": "markdown",
   "source": "# Test Data 📖",
   "metadata": {
    "papermill": {
     "duration": 0.067107,
     "end_time": "2022-03-08T03:18:26.962626",
     "exception": false,
     "start_time": "2022-03-08T03:18:26.895519",
     "status": "completed"
    },
    "tags": []
   }
  },
  {
   "cell_type": "code",
   "source": "test_paths = glob(f'{BASE_PATH}/test_soundscapes/*ogg')\n# During commit use `unlabeled` data as there is no `test` data.\n# During submission `test` data will automatically be populated.\nif len(test_paths)==0:\n    test_paths = glob(f'{BASE_PATH}/unlabeled_soundscapes/*ogg')[:10]\ntest_df = pd.DataFrame(test_paths, columns=['filepath'])\ntest_df.info()",
   "metadata": {
    "papermill": {
     "duration": 0.241649,
     "end_time": "2022-03-08T03:18:27.408813",
     "exception": false,
     "start_time": "2022-03-08T03:18:27.167164",
     "status": "completed"
    },
    "tags": [],
    "_kg_hide-input": true,
    "execution": {
     "iopub.status.busy": "2024-06-07T15:05:02.517146Z",
     "iopub.execute_input": "2024-06-07T15:05:02.517498Z",
     "iopub.status.idle": "2024-06-07T15:05:02.559265Z",
     "shell.execute_reply.started": "2024-06-07T15:05:02.517471Z",
     "shell.execute_reply": "2024-06-07T15:05:02.558212Z"
    },
    "trusted": true
   },
   "execution_count": 17,
   "outputs": [
    {
     "name": "stdout",
     "text": "<class 'pandas.core.frame.DataFrame'>\nRangeIndex: 10 entries, 0 to 9\nData columns (total 1 columns):\n #   Column    Non-Null Count  Dtype \n---  ------    --------------  ----- \n 0   filepath  10 non-null     object\ndtypes: object(1)\nmemory usage: 208.0+ bytes\n",
     "output_type": "stream"
    }
   ]
  },
  {
   "cell_type": "markdown",
   "source": "# Modeling 🤖\n\nNote that our model was trained on `10 second` duration audio files, but we will infer on `5-second` audio files (as per competition rules). To facilitate this, we have set the model input shape to `(None, None, 3)`, which will allow us to have variable-length input during training and inference.",
   "metadata": {
    "papermill": {
     "duration": 0.182769,
     "end_time": "2022-03-08T03:20:04.861966",
     "exception": false,
     "start_time": "2022-03-08T03:20:04.679197",
     "status": "completed"
    },
    "tags": []
   }
  },
  {
   "cell_type": "code",
   "source": "def get_model(shape = (None, None, 3), weights = \"imagenet\"):\n    model = keras_cv.models.ResNet50Backbone(input_shape = shape)\n    flatten = tf.keras.layers.GlobalAveragePooling2D()(model.output)\n    drop_out = tf.keras.layers.Dropout(0.5)(flatten)\n    dense = tf.keras.layers.Dense(2048, activation = \"relu\")(drop_out)\n    prediction = tf.keras.layers.Dense(182, activation = \"softmax\", name = \"prediction\")(dense)\n    model = tf.keras.Model(model.input, prediction)\n    return model\n",
   "metadata": {
    "execution": {
     "iopub.status.busy": "2024-06-07T15:04:17.901179Z",
     "iopub.execute_input": "2024-06-07T15:04:17.901618Z",
     "iopub.status.idle": "2024-06-07T15:04:17.908816Z",
     "shell.execute_reply.started": "2024-06-07T15:04:17.901581Z",
     "shell.execute_reply": "2024-06-07T15:04:17.907696Z"
    },
    "trusted": true
   },
   "execution_count": 7,
   "outputs": []
  },
  {
   "cell_type": "code",
   "source": "# Create an input layer for the model\ninp = keras.layers.Input(shape=(None, None, 3))\n# Pretrained backbone\nbackbone = keras_cv.models.ResNetBackbone.from_preset(\"resnet50_imagenet\")\nout = keras_cv.models.ImageClassifier(\n    backbone=backbone,\n    num_classes=CFG.num_classes,\n    name=\"classifier\"\n)(inp)\n# Build model\nmodel = get_model()\n# Load weights of trained model\nmodel.load_weights(\"/kaggle/input/weight3/model1weight.h5\")# Load weights of trained model\n# Compile model with optimizer, loss and metrics\nmodel.compile(optimizer=\"adam\",\n              loss=keras.losses.CategoricalCrossentropy(label_smoothing=0.02),\n              metrics=[keras.metrics.AUC(name='auc')],\n             )",
   "metadata": {
    "papermill": {
     "duration": 1.239321,
     "end_time": "2022-03-08T03:20:06.281118",
     "exception": false,
     "start_time": "2022-03-08T03:20:05.041797",
     "status": "completed"
    },
    "tags": [],
    "_kg_hide-input": true,
    "execution": {
     "iopub.status.busy": "2024-06-07T15:04:17.910961Z",
     "iopub.execute_input": "2024-06-07T15:04:17.911352Z",
     "iopub.status.idle": "2024-06-07T15:04:26.989894Z",
     "shell.execute_reply.started": "2024-06-07T15:04:17.911314Z",
     "shell.execute_reply": "2024-06-07T15:04:26.988985Z"
    },
    "trusted": true
   },
   "execution_count": 8,
   "outputs": [
    {
     "name": "stderr",
     "text": "Attaching 'config.json' from model 'keras/resnetv1/keras/resnet50_imagenet/2' to your Kaggle notebook...\nAttaching 'config.json' from model 'keras/resnetv1/keras/resnet50_imagenet/2' to your Kaggle notebook...\nAttaching 'model.weights.h5' from model 'keras/resnetv1/keras/resnet50_imagenet/2' to your Kaggle notebook...\nAttaching 'config.json' from model 'keras/resnetv1/keras/resnet50/2' to your Kaggle notebook...\nAttaching 'config.json' from model 'keras/resnetv1/keras/resnet50/2' to your Kaggle notebook...\n",
     "output_type": "stream"
    }
   ]
  },
  {
   "cell_type": "markdown",
   "source": "# Data Loader 🍚\n\nThe following code will decode the raw audio from `.ogg` file and also decode the spectrogram from the `audio` file. Additionally, we will apply Z-Score standardization and Min-Max normalization to ensure consistent inputs to the model.",
   "metadata": {}
  },
  {
   "cell_type": "code",
   "source": "# Decodes Audio\ndef build_decoder(with_labels=True, dim=1024):\n    def get_audio(filepath):\n        file_bytes = tf.io.read_file(filepath)\n        audio = tfio.audio.decode_vorbis(file_bytes) # decode .ogg file\n        audio = tf.cast(audio, tf.float32)\n        if tf.shape(audio)[1]>1: # stereo -> mono\n            audio = audio[...,0:1]\n        audio = tf.squeeze(audio, axis=-1)\n        return audio\n    \n    def create_frames(audio, duration=5, sr=32000):\n        frame_size = int(duration * sr)\n        audio = tf.pad(audio[..., None], [[0, tf.shape(audio)[0] % frame_size], [0, 0]]) # pad the end\n        audio = tf.squeeze(audio) # remove extra dimension added for padding\n        frames = tf.reshape(audio, [-1, frame_size]) # shape: [num_frames, frame_size]\n        return frames\n    \n    def apply_preproc(spec):\n        # Standardize\n        mean = tf.math.reduce_mean(spec)\n        std = tf.math.reduce_std(spec)\n        spec = tf.where(tf.math.equal(std, 0), spec - mean, (spec - mean) / std)\n\n        # Normalize using Min-Max\n        min_val = tf.math.reduce_min(spec)\n        max_val = tf.math.reduce_max(spec)\n        spec = tf.where(tf.math.equal(max_val - min_val, 0), spec - min_val,\n                              (spec - min_val) / (max_val - min_val))\n        return spec\n\n    def decode(path):\n        # Load audio file\n        audio = get_audio(path)\n        # Split audio file into frames with each having 5 seecond duration\n        audio = create_frames(audio)\n        # Convert audio to spectrogram\n        spec = keras.layers.MelSpectrogram(num_mel_bins=CFG.img_size[0],\n                                             fft_length=CFG.nfft, \n                                              sequence_stride=CFG.hop_length, \n                                              sampling_rate=CFG.sample_rate)(audio)\n        # Apply normalization and standardization\n        spec = apply_preproc(spec)\n        # Covnert spectrogram to 3 channel image (for imagenet)\n        spec = tf.tile(spec[..., None], [1, 1, 1, 3])\n        return spec\n    \n    return decode",
   "metadata": {
    "execution": {
     "iopub.status.busy": "2024-06-07T15:04:27.001028Z",
     "iopub.execute_input": "2024-06-07T15:04:27.001441Z",
     "iopub.status.idle": "2024-06-07T15:04:27.071342Z",
     "shell.execute_reply.started": "2024-06-07T15:04:27.001406Z",
     "shell.execute_reply": "2024-06-07T15:04:27.070190Z"
    },
    "trusted": true
   },
   "execution_count": 10,
   "outputs": []
  },
  {
   "cell_type": "code",
   "source": "# Build data loader\ndef build_dataset(paths, batch_size=1, decode_fn=None, cache=False):\n    if decode_fn is None:\n        decode_fn = build_decoder(dim=CFG.audio_len) # decoder\n    AUTO = tf.data.experimental.AUTOTUNE\n    slices = (paths,)\n    ds = tf.data.Dataset.from_tensor_slices(slices)\n    ds = ds.map(decode_fn, num_parallel_calls=AUTO) # decode audio to spectrograms then create frames\n    ds = ds.cache() if cache else ds # cache files\n    ds = ds.batch(batch_size, drop_remainder=False) # create batches\n    ds = ds.prefetch(AUTO)\n    return ds",
   "metadata": {
    "execution": {
     "iopub.status.busy": "2024-06-07T15:04:27.074671Z",
     "iopub.execute_input": "2024-06-07T15:04:27.075042Z",
     "iopub.status.idle": "2024-06-07T15:04:27.086807Z",
     "shell.execute_reply.started": "2024-06-07T15:04:27.075013Z",
     "shell.execute_reply": "2024-06-07T15:04:27.085642Z"
    },
    "trusted": true
   },
   "execution_count": 11,
   "outputs": []
  },
  {
   "cell_type": "markdown",
   "source": "# Inference 🏃",
   "metadata": {}
  },
  {
   "cell_type": "code",
   "source": "# Initialize empty list to store ids\nids = []\n\n# Initialize empty array to store predictions\npreds = np.empty(shape=(0, CFG.num_classes), dtype='float32')\n\n# Build test dataset\ntest_paths = test_df.filepath.tolist()\ntest_ds = build_dataset(paths=test_paths, batch_size=1)\n\n# Iterate over each audio file in the test dataset\nfor idx, specs in enumerate(tqdm(iter(test_ds), desc='test ', total=len(test_df))):\n    print(idx)\n    # Extract the filename without the extension\n    filename = test_paths[idx].split('/')[-1].replace('.ogg','')\n    \n    # Convert to backend-specific tensor while excluding extra dimension\n    specs = keras.ops.convert_to_tensor(specs[0])\n    \n    # Predict bird species for all frames in a recording using all trained models\n    frame_preds = model.predict(specs, verbose=0)\n    \n    # Create a ID for each frame in a recording using the filename and frame number\n    frame_ids = [f'{filename}_{(frame_id+1)*5}' for frame_id in range(len(frame_preds))]\n    \n    # Concatenate the ids\n    ids += frame_ids\n    # Concatenate the predictions\n    preds = np.concatenate([preds, frame_preds], axis=0)\n    \nprint(len(test_df))",
   "metadata": {
    "execution": {
     "iopub.status.busy": "2024-06-07T15:04:27.088150Z",
     "iopub.execute_input": "2024-06-07T15:04:27.088509Z",
     "iopub.status.idle": "2024-06-07T15:05:00.605241Z",
     "shell.execute_reply.started": "2024-06-07T15:04:27.088480Z",
     "shell.execute_reply": "2024-06-07T15:05:00.604222Z"
    },
    "trusted": true
   },
   "execution_count": 12,
   "outputs": [
    {
     "name": "stderr",
     "text": "test :   0%|          | 0/10 [00:00<?, ?it/s]",
     "output_type": "stream"
    },
    {
     "name": "stdout",
     "text": "0\n",
     "output_type": "stream"
    },
    {
     "name": "stderr",
     "text": "test :  10%|█         | 1/10 [00:13<02:02, 13.60s/it]",
     "output_type": "stream"
    },
    {
     "name": "stdout",
     "text": "1\n",
     "output_type": "stream"
    },
    {
     "name": "stderr",
     "text": "test :  20%|██        | 2/10 [00:15<00:52,  6.62s/it]",
     "output_type": "stream"
    },
    {
     "name": "stdout",
     "text": "2\n",
     "output_type": "stream"
    },
    {
     "name": "stderr",
     "text": "test :  30%|███       | 3/10 [00:17<00:33,  4.79s/it]",
     "output_type": "stream"
    },
    {
     "name": "stdout",
     "text": "3\n",
     "output_type": "stream"
    },
    {
     "name": "stderr",
     "text": "test :  40%|████      | 4/10 [00:19<00:21,  3.51s/it]",
     "output_type": "stream"
    },
    {
     "name": "stdout",
     "text": "4\n",
     "output_type": "stream"
    },
    {
     "name": "stderr",
     "text": "test :  50%|█████     | 5/10 [00:21<00:14,  2.95s/it]",
     "output_type": "stream"
    },
    {
     "name": "stdout",
     "text": "5\n",
     "output_type": "stream"
    },
    {
     "name": "stderr",
     "text": "test :  60%|██████    | 6/10 [00:24<00:11,  2.83s/it]",
     "output_type": "stream"
    },
    {
     "name": "stdout",
     "text": "6\n",
     "output_type": "stream"
    },
    {
     "name": "stderr",
     "text": "test :  70%|███████   | 7/10 [00:25<00:06,  2.30s/it]",
     "output_type": "stream"
    },
    {
     "name": "stdout",
     "text": "7\n",
     "output_type": "stream"
    },
    {
     "name": "stderr",
     "text": "test :  80%|████████  | 8/10 [00:26<00:03,  1.95s/it]",
     "output_type": "stream"
    },
    {
     "name": "stdout",
     "text": "8\n",
     "output_type": "stream"
    },
    {
     "name": "stderr",
     "text": "test :  90%|█████████ | 9/10 [00:29<00:02,  2.16s/it]",
     "output_type": "stream"
    },
    {
     "name": "stdout",
     "text": "9\n",
     "output_type": "stream"
    },
    {
     "name": "stderr",
     "text": "test : 100%|██████████| 10/10 [00:31<00:00,  3.17s/it]",
     "output_type": "stream"
    },
    {
     "name": "stdout",
     "text": "10\n",
     "output_type": "stream"
    },
    {
     "name": "stderr",
     "text": "\n",
     "output_type": "stream"
    }
   ]
  },
  {
   "cell_type": "code",
   "source": "print(len(test_ds))\nprint(len(test_paths))\nprint(len(preds[0]))\nprint(len(frame_preds))\nprint(len(test_ds))\nprint(filename)\nprint(frame_preds)",
   "metadata": {
    "execution": {
     "iopub.status.busy": "2024-06-07T15:05:00.606593Z",
     "iopub.execute_input": "2024-06-07T15:05:00.606910Z",
     "iopub.status.idle": "2024-06-07T15:05:00.615372Z",
     "shell.execute_reply.started": "2024-06-07T15:05:00.606883Z",
     "shell.execute_reply": "2024-06-07T15:05:00.614156Z"
    },
    "trusted": true
   },
   "execution_count": 13,
   "outputs": [
    {
     "name": "stdout",
     "text": "10\n10\n182\n48\n10\n33854460\n[[4.3259771e-03 4.0125921e-03 5.9785869e-04 ... 6.5644927e-05\n  3.5749565e-04 1.6486569e-03]\n [4.1918731e-03 4.3139779e-03 8.9821802e-04 ... 4.6543377e-05\n  1.2979540e-04 5.7664239e-03]\n [1.7168240e-03 4.3637143e-03 6.6714507e-04 ... 4.1100579e-05\n  5.7036439e-05 5.5719921e-03]\n ...\n [1.6207107e-03 6.6549270e-03 2.9835599e-03 ... 9.1214525e-03\n  5.7264412e-04 6.8518142e-03]\n [8.9442666e-04 1.1624815e-02 6.7122201e-03 ... 2.0252755e-02\n  1.8562897e-04 6.2564667e-03]\n [1.4737559e-03 5.9950105e-03 1.5035543e-03 ... 3.0525874e-03\n  7.0310535e-04 3.5798596e-03]]\n",
     "output_type": "stream"
    }
   ]
  },
  {
   "cell_type": "code",
   "source": "test_ds",
   "metadata": {
    "execution": {
     "iopub.status.busy": "2024-06-07T15:05:00.616576Z",
     "iopub.execute_input": "2024-06-07T15:05:00.616895Z",
     "iopub.status.idle": "2024-06-07T15:05:00.628640Z",
     "shell.execute_reply.started": "2024-06-07T15:05:00.616870Z",
     "shell.execute_reply": "2024-06-07T15:05:00.627578Z"
    },
    "trusted": true
   },
   "execution_count": 14,
   "outputs": [
    {
     "execution_count": 14,
     "output_type": "execute_result",
     "data": {
      "text/plain": "<_PrefetchDataset element_spec=TensorSpec(shape=(None, None, 128, 128, 3), dtype=tf.float32, name=None)>"
     },
     "metadata": {}
    }
   ]
  },
  {
   "cell_type": "markdown",
   "source": "# Submission ✉️",
   "metadata": {}
  },
  {
   "cell_type": "code",
   "source": "# Submit prediction\npred_df = pd.DataFrame(ids, columns=['row_id'])\nprint(pred_df)\npred_df.loc[:, CFG.class_names] = preds\npred_df.to_csv('submission.csv',index=False)\npred_df",
   "metadata": {
    "execution": {
     "iopub.status.busy": "2024-06-07T15:05:00.629962Z",
     "iopub.execute_input": "2024-06-07T15:05:00.630273Z",
     "iopub.status.idle": "2024-06-07T15:05:00.884752Z",
     "shell.execute_reply.started": "2024-06-07T15:05:00.630247Z",
     "shell.execute_reply": "2024-06-07T15:05:00.883477Z"
    },
    "trusted": true
   },
   "execution_count": 15,
   "outputs": [
    {
     "name": "stdout",
     "text": "            row_id\n0     1872382287_5\n1    1872382287_10\n2    1872382287_15\n3    1872382287_20\n4    1872382287_25\n..             ...\n475   33854460_220\n476   33854460_225\n477   33854460_230\n478   33854460_235\n479   33854460_240\n\n[480 rows x 1 columns]\n",
     "output_type": "stream"
    },
    {
     "execution_count": 15,
     "output_type": "execute_result",
     "data": {
      "text/plain": "            row_id    asbfly   ashdro1   ashpri1   ashwoo2   asikoe2  \\\n0     1872382287_5  0.003150  0.011602  0.001392  0.000196  0.012220   \n1    1872382287_10  0.002887  0.012427  0.001102  0.000259  0.014886   \n2    1872382287_15  0.003115  0.012657  0.001085  0.000142  0.011752   \n3    1872382287_20  0.002890  0.013887  0.001529  0.000293  0.011494   \n4    1872382287_25  0.002426  0.009226  0.000649  0.000080  0.010208   \n..             ...       ...       ...       ...       ...       ...   \n475   33854460_220  0.001355  0.007143  0.001851  0.000729  0.037000   \n476   33854460_225  0.001523  0.012712  0.002616  0.001082  0.027083   \n477   33854460_230  0.001621  0.006655  0.002984  0.001230  0.039136   \n478   33854460_235  0.000894  0.011625  0.006712  0.001830  0.011956   \n479   33854460_240  0.001474  0.005995  0.001504  0.000557  0.045714   \n\n      asiope1   aspfly1   aspswi1   barfly1  ...   whbwoo2   whcbar1  \\\n0    0.001658  0.000424  0.007918  0.016402  ...  0.013865  0.005775   \n1    0.001769  0.000648  0.007084  0.009867  ...  0.016335  0.003189   \n2    0.001342  0.000404  0.007736  0.014555  ...  0.014694  0.004223   \n3    0.001952  0.000724  0.007607  0.012552  ...  0.014926  0.003652   \n4    0.001289  0.000301  0.006214  0.013643  ...  0.017207  0.002817   \n..        ...       ...       ...       ...  ...       ...       ...   \n475  0.001073  0.000083  0.015923  0.006438  ...  0.004283  0.010909   \n476  0.000877  0.000193  0.029938  0.007200  ...  0.004437  0.007749   \n477  0.001658  0.000126  0.020042  0.008760  ...  0.003299  0.013803   \n478  0.000985  0.000118  0.029391  0.007129  ...  0.001130  0.002817   \n479  0.000952  0.000087  0.013948  0.009886  ...  0.006849  0.037075   \n\n      whiter2    whrmun   whtkin2    woosan   wynlau1   yebbab1   yebbul3  \\\n0    0.000419  0.002555  0.061925  0.002699  0.000389  0.003282  0.000611   \n1    0.000502  0.002253  0.060976  0.001889  0.000511  0.003467  0.001094   \n2    0.000319  0.002027  0.065576  0.002115  0.000327  0.003313  0.000607   \n3    0.000619  0.003058  0.056523  0.002623  0.000628  0.003541  0.000836   \n4    0.000224  0.001299  0.056389  0.001430  0.000285  0.003410  0.000732   \n..        ...       ...       ...       ...       ...       ...       ...   \n475  0.000317  0.002898  0.043216  0.006473  0.000171  0.003884  0.000430   \n476  0.000309  0.004402  0.030272  0.007221  0.000253  0.005548  0.000347   \n477  0.000712  0.004596  0.027517  0.015718  0.000373  0.009121  0.000573   \n478  0.001478  0.012153  0.027218  0.054701  0.000443  0.020253  0.000186   \n479  0.000168  0.001596  0.024433  0.004092  0.000152  0.003053  0.000703   \n\n      zitcis1  \n0    0.008459  \n1    0.004401  \n2    0.007034  \n3    0.005902  \n4    0.003591  \n..        ...  \n475  0.004475  \n476  0.002279  \n477  0.006852  \n478  0.006256  \n479  0.003580  \n\n[480 rows x 183 columns]",
      "text/html": "<div>\n<style scoped>\n    .dataframe tbody tr th:only-of-type {\n        vertical-align: middle;\n    }\n\n    .dataframe tbody tr th {\n        vertical-align: top;\n    }\n\n    .dataframe thead th {\n        text-align: right;\n    }\n</style>\n<table border=\"1\" class=\"dataframe\">\n  <thead>\n    <tr style=\"text-align: right;\">\n      <th></th>\n      <th>row_id</th>\n      <th>asbfly</th>\n      <th>ashdro1</th>\n      <th>ashpri1</th>\n      <th>ashwoo2</th>\n      <th>asikoe2</th>\n      <th>asiope1</th>\n      <th>aspfly1</th>\n      <th>aspswi1</th>\n      <th>barfly1</th>\n      <th>...</th>\n      <th>whbwoo2</th>\n      <th>whcbar1</th>\n      <th>whiter2</th>\n      <th>whrmun</th>\n      <th>whtkin2</th>\n      <th>woosan</th>\n      <th>wynlau1</th>\n      <th>yebbab1</th>\n      <th>yebbul3</th>\n      <th>zitcis1</th>\n    </tr>\n  </thead>\n  <tbody>\n    <tr>\n      <th>0</th>\n      <td>1872382287_5</td>\n      <td>0.003150</td>\n      <td>0.011602</td>\n      <td>0.001392</td>\n      <td>0.000196</td>\n      <td>0.012220</td>\n      <td>0.001658</td>\n      <td>0.000424</td>\n      <td>0.007918</td>\n      <td>0.016402</td>\n      <td>...</td>\n      <td>0.013865</td>\n      <td>0.005775</td>\n      <td>0.000419</td>\n      <td>0.002555</td>\n      <td>0.061925</td>\n      <td>0.002699</td>\n      <td>0.000389</td>\n      <td>0.003282</td>\n      <td>0.000611</td>\n      <td>0.008459</td>\n    </tr>\n    <tr>\n      <th>1</th>\n      <td>1872382287_10</td>\n      <td>0.002887</td>\n      <td>0.012427</td>\n      <td>0.001102</td>\n      <td>0.000259</td>\n      <td>0.014886</td>\n      <td>0.001769</td>\n      <td>0.000648</td>\n      <td>0.007084</td>\n      <td>0.009867</td>\n      <td>...</td>\n      <td>0.016335</td>\n      <td>0.003189</td>\n      <td>0.000502</td>\n      <td>0.002253</td>\n      <td>0.060976</td>\n      <td>0.001889</td>\n      <td>0.000511</td>\n      <td>0.003467</td>\n      <td>0.001094</td>\n      <td>0.004401</td>\n    </tr>\n    <tr>\n      <th>2</th>\n      <td>1872382287_15</td>\n      <td>0.003115</td>\n      <td>0.012657</td>\n      <td>0.001085</td>\n      <td>0.000142</td>\n      <td>0.011752</td>\n      <td>0.001342</td>\n      <td>0.000404</td>\n      <td>0.007736</td>\n      <td>0.014555</td>\n      <td>...</td>\n      <td>0.014694</td>\n      <td>0.004223</td>\n      <td>0.000319</td>\n      <td>0.002027</td>\n      <td>0.065576</td>\n      <td>0.002115</td>\n      <td>0.000327</td>\n      <td>0.003313</td>\n      <td>0.000607</td>\n      <td>0.007034</td>\n    </tr>\n    <tr>\n      <th>3</th>\n      <td>1872382287_20</td>\n      <td>0.002890</td>\n      <td>0.013887</td>\n      <td>0.001529</td>\n      <td>0.000293</td>\n      <td>0.011494</td>\n      <td>0.001952</td>\n      <td>0.000724</td>\n      <td>0.007607</td>\n      <td>0.012552</td>\n      <td>...</td>\n      <td>0.014926</td>\n      <td>0.003652</td>\n      <td>0.000619</td>\n      <td>0.003058</td>\n      <td>0.056523</td>\n      <td>0.002623</td>\n      <td>0.000628</td>\n      <td>0.003541</td>\n      <td>0.000836</td>\n      <td>0.005902</td>\n    </tr>\n    <tr>\n      <th>4</th>\n      <td>1872382287_25</td>\n      <td>0.002426</td>\n      <td>0.009226</td>\n      <td>0.000649</td>\n      <td>0.000080</td>\n      <td>0.010208</td>\n      <td>0.001289</td>\n      <td>0.000301</td>\n      <td>0.006214</td>\n      <td>0.013643</td>\n      <td>...</td>\n      <td>0.017207</td>\n      <td>0.002817</td>\n      <td>0.000224</td>\n      <td>0.001299</td>\n      <td>0.056389</td>\n      <td>0.001430</td>\n      <td>0.000285</td>\n      <td>0.003410</td>\n      <td>0.000732</td>\n      <td>0.003591</td>\n    </tr>\n    <tr>\n      <th>...</th>\n      <td>...</td>\n      <td>...</td>\n      <td>...</td>\n      <td>...</td>\n      <td>...</td>\n      <td>...</td>\n      <td>...</td>\n      <td>...</td>\n      <td>...</td>\n      <td>...</td>\n      <td>...</td>\n      <td>...</td>\n      <td>...</td>\n      <td>...</td>\n      <td>...</td>\n      <td>...</td>\n      <td>...</td>\n      <td>...</td>\n      <td>...</td>\n      <td>...</td>\n      <td>...</td>\n    </tr>\n    <tr>\n      <th>475</th>\n      <td>33854460_220</td>\n      <td>0.001355</td>\n      <td>0.007143</td>\n      <td>0.001851</td>\n      <td>0.000729</td>\n      <td>0.037000</td>\n      <td>0.001073</td>\n      <td>0.000083</td>\n      <td>0.015923</td>\n      <td>0.006438</td>\n      <td>...</td>\n      <td>0.004283</td>\n      <td>0.010909</td>\n      <td>0.000317</td>\n      <td>0.002898</td>\n      <td>0.043216</td>\n      <td>0.006473</td>\n      <td>0.000171</td>\n      <td>0.003884</td>\n      <td>0.000430</td>\n      <td>0.004475</td>\n    </tr>\n    <tr>\n      <th>476</th>\n      <td>33854460_225</td>\n      <td>0.001523</td>\n      <td>0.012712</td>\n      <td>0.002616</td>\n      <td>0.001082</td>\n      <td>0.027083</td>\n      <td>0.000877</td>\n      <td>0.000193</td>\n      <td>0.029938</td>\n      <td>0.007200</td>\n      <td>...</td>\n      <td>0.004437</td>\n      <td>0.007749</td>\n      <td>0.000309</td>\n      <td>0.004402</td>\n      <td>0.030272</td>\n      <td>0.007221</td>\n      <td>0.000253</td>\n      <td>0.005548</td>\n      <td>0.000347</td>\n      <td>0.002279</td>\n    </tr>\n    <tr>\n      <th>477</th>\n      <td>33854460_230</td>\n      <td>0.001621</td>\n      <td>0.006655</td>\n      <td>0.002984</td>\n      <td>0.001230</td>\n      <td>0.039136</td>\n      <td>0.001658</td>\n      <td>0.000126</td>\n      <td>0.020042</td>\n      <td>0.008760</td>\n      <td>...</td>\n      <td>0.003299</td>\n      <td>0.013803</td>\n      <td>0.000712</td>\n      <td>0.004596</td>\n      <td>0.027517</td>\n      <td>0.015718</td>\n      <td>0.000373</td>\n      <td>0.009121</td>\n      <td>0.000573</td>\n      <td>0.006852</td>\n    </tr>\n    <tr>\n      <th>478</th>\n      <td>33854460_235</td>\n      <td>0.000894</td>\n      <td>0.011625</td>\n      <td>0.006712</td>\n      <td>0.001830</td>\n      <td>0.011956</td>\n      <td>0.000985</td>\n      <td>0.000118</td>\n      <td>0.029391</td>\n      <td>0.007129</td>\n      <td>...</td>\n      <td>0.001130</td>\n      <td>0.002817</td>\n      <td>0.001478</td>\n      <td>0.012153</td>\n      <td>0.027218</td>\n      <td>0.054701</td>\n      <td>0.000443</td>\n      <td>0.020253</td>\n      <td>0.000186</td>\n      <td>0.006256</td>\n    </tr>\n    <tr>\n      <th>479</th>\n      <td>33854460_240</td>\n      <td>0.001474</td>\n      <td>0.005995</td>\n      <td>0.001504</td>\n      <td>0.000557</td>\n      <td>0.045714</td>\n      <td>0.000952</td>\n      <td>0.000087</td>\n      <td>0.013948</td>\n      <td>0.009886</td>\n      <td>...</td>\n      <td>0.006849</td>\n      <td>0.037075</td>\n      <td>0.000168</td>\n      <td>0.001596</td>\n      <td>0.024433</td>\n      <td>0.004092</td>\n      <td>0.000152</td>\n      <td>0.003053</td>\n      <td>0.000703</td>\n      <td>0.003580</td>\n    </tr>\n  </tbody>\n</table>\n<p>480 rows × 183 columns</p>\n</div>"
     },
     "metadata": {}
    }
   ]
  }
 ]
}
